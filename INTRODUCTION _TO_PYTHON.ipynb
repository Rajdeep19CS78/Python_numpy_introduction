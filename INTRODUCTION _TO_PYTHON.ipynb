{
 "cells": [
  {
   "cell_type": "markdown",
   "metadata": {},
   "source": [
    "print(\"rahsjdjdj\")"
   ]
  },
  {
   "cell_type": "code",
   "execution_count": 2,
   "metadata": {},
   "outputs": [
    {
     "name": "stdout",
     "output_type": "stream",
     "text": [
      "Hello\n"
     ]
    }
   ],
   "source": [
    "print(\"Hello\")"
   ]
  },
  {
   "cell_type": "markdown",
   "metadata": {},
   "source": [
    "python --version"
   ]
  },
  {
   "cell_type": "code",
   "execution_count": 4,
   "metadata": {},
   "outputs": [
    {
     "name": "stdout",
     "output_type": "stream",
     "text": [
      "Python 3.7.4\n"
     ]
    }
   ],
   "source": [
    "!python --version"
   ]
  },
  {
   "cell_type": "code",
   "execution_count": 5,
   "metadata": {},
   "outputs": [
    {
     "name": "stdout",
     "output_type": "stream",
     "text": [
      "Rajdeep\n",
      "<class 'str'>\n"
     ]
    }
   ],
   "source": [
    "##Basics Data Type\n",
    "x=\"Rajdeep\"\n",
    "print(x)\n",
    "print(type(x))"
   ]
  },
  {
   "cell_type": "code",
   "execution_count": 6,
   "metadata": {},
   "outputs": [
    {
     "name": "stdout",
     "output_type": "stream",
     "text": [
      "<class 'float'>\n"
     ]
    }
   ],
   "source": [
    "x=3.5\n",
    "print(type(x))"
   ]
  },
  {
   "cell_type": "code",
   "execution_count": 7,
   "metadata": {},
   "outputs": [
    {
     "name": "stdout",
     "output_type": "stream",
     "text": [
      "<class 'float'>\n"
     ]
    }
   ],
   "source": [
    "x=4.5555556777778888\n",
    "print(type(x))"
   ]
  },
  {
   "cell_type": "code",
   "execution_count": 9,
   "metadata": {},
   "outputs": [
    {
     "name": "stdout",
     "output_type": "stream",
     "text": [
      "36\n"
     ]
    }
   ],
   "source": [
    "print(6**2)"
   ]
  },
  {
   "cell_type": "code",
   "execution_count": 10,
   "metadata": {},
   "outputs": [
    {
     "name": "stdout",
     "output_type": "stream",
     "text": [
      "1\n"
     ]
    }
   ],
   "source": [
    "x=3\n",
    "print(x//2)"
   ]
  },
  {
   "cell_type": "code",
   "execution_count": 11,
   "metadata": {},
   "outputs": [
    {
     "name": "stdout",
     "output_type": "stream",
     "text": [
      "1.5\n"
     ]
    }
   ],
   "source": [
    "print(x/2)"
   ]
  },
  {
   "cell_type": "code",
   "execution_count": 12,
   "metadata": {},
   "outputs": [
    {
     "name": "stdout",
     "output_type": "stream",
     "text": [
      "<class 'int'>\n",
      "2 3 4 4\n"
     ]
    }
   ],
   "source": [
    "y=2\n",
    "print(type(y))\n",
    "print(y,y+1,y*2,y**2)"
   ]
  },
  {
   "cell_type": "code",
   "execution_count": 13,
   "metadata": {},
   "outputs": [
    {
     "name": "stdout",
     "output_type": "stream",
     "text": [
      "<class 'bool'>\n"
     ]
    }
   ],
   "source": [
    "t,f=True,False\n",
    "print(type(t))"
   ]
  },
  {
   "cell_type": "code",
   "execution_count": 14,
   "metadata": {},
   "outputs": [
    {
     "name": "stdout",
     "output_type": "stream",
     "text": [
      "False\n"
     ]
    }
   ],
   "source": [
    "print(t and f)"
   ]
  },
  {
   "cell_type": "code",
   "execution_count": 15,
   "metadata": {},
   "outputs": [
    {
     "name": "stdout",
     "output_type": "stream",
     "text": [
      "True\n"
     ]
    }
   ],
   "source": [
    "print(t or f)"
   ]
  },
  {
   "cell_type": "code",
   "execution_count": 17,
   "metadata": {},
   "outputs": [
    {
     "name": "stdout",
     "output_type": "stream",
     "text": [
      "False\n"
     ]
    }
   ],
   "source": [
    "print(not t)"
   ]
  },
  {
   "cell_type": "code",
   "execution_count": 19,
   "metadata": {},
   "outputs": [
    {
     "name": "stdout",
     "output_type": "stream",
     "text": [
      "5\n"
     ]
    },
    {
     "data": {
      "text/plain": [
       "2"
      ]
     },
     "execution_count": 19,
     "metadata": {},
     "output_type": "execute_result"
    }
   ],
   "source": [
    "#Strings\n",
    "hello='hello'\n",
    "world=\"world\"\n",
    "print(len(hello))\n",
    "hello.count('l')"
   ]
  },
  {
   "cell_type": "code",
   "execution_count": 20,
   "metadata": {},
   "outputs": [
    {
     "data": {
      "text/plain": [
       "0"
      ]
     },
     "execution_count": 20,
     "metadata": {},
     "output_type": "execute_result"
    }
   ],
   "source": [
    "hello.count('O')"
   ]
  },
  {
   "cell_type": "code",
   "execution_count": 21,
   "metadata": {},
   "outputs": [
    {
     "name": "stdout",
     "output_type": "stream",
     "text": [
      "hello world\n"
     ]
    }
   ],
   "source": [
    "hw=hello+' '+world\n",
    "print(hw)"
   ]
  },
  {
   "cell_type": "code",
   "execution_count": 23,
   "metadata": {},
   "outputs": [
    {
     "name": "stdout",
     "output_type": "stream",
     "text": [
      "hello world 12\n"
     ]
    }
   ],
   "source": [
    "hw12='{} {} {}'.format(hello,world,12)\n",
    "print(hw12)"
   ]
  },
  {
   "cell_type": "code",
   "execution_count": 24,
   "metadata": {},
   "outputs": [
    {
     "name": "stdout",
     "output_type": "stream",
     "text": [
      "Hello\n"
     ]
    }
   ],
   "source": [
    "s=\"hello\"\n",
    "print(s.capitalize())"
   ]
  },
  {
   "cell_type": "code",
   "execution_count": 26,
   "metadata": {},
   "outputs": [
    {
     "name": "stdout",
     "output_type": "stream",
     "text": [
      "hello\n"
     ]
    }
   ],
   "source": [
    "print(s.replace('1', '(ell)'))"
   ]
  },
  {
   "cell_type": "code",
   "execution_count": 27,
   "metadata": {},
   "outputs": [
    {
     "name": "stdout",
     "output_type": "stream",
     "text": [
      "HELLO\n"
     ]
    }
   ],
   "source": [
    "print(s.upper())"
   ]
  },
  {
   "cell_type": "code",
   "execution_count": 28,
   "metadata": {},
   "outputs": [
    {
     "name": "stdout",
     "output_type": "stream",
     "text": [
      "he(ell)(ell)o\n"
     ]
    }
   ],
   "source": [
    "print(s.replace('l', '(ell)'))#"
   ]
  },
  {
   "cell_type": "code",
   "execution_count": 29,
   "metadata": {},
   "outputs": [
    {
     "name": "stdout",
     "output_type": "stream",
     "text": [
      " world \n"
     ]
    }
   ],
   "source": [
    "print(' world ')"
   ]
  },
  {
   "cell_type": "code",
   "execution_count": 30,
   "metadata": {},
   "outputs": [
    {
     "name": "stdout",
     "output_type": "stream",
     "text": [
      "world\n"
     ]
    }
   ],
   "source": [
    "print(' world '.strip())#strip leading and trailing whitespace"
   ]
  },
  {
   "cell_type": "code",
   "execution_count": 31,
   "metadata": {},
   "outputs": [],
   "source": [
    "##Containers\n",
    "xs=[3,1,4,'Hello']\n",
    "xs.append('bar')"
   ]
  },
  {
   "cell_type": "code",
   "execution_count": 32,
   "metadata": {},
   "outputs": [
    {
     "name": "stdout",
     "output_type": "stream",
     "text": [
      "[3, 1, 4, 'Hello', 'bar']\n"
     ]
    }
   ],
   "source": [
    "print(xs)"
   ]
  },
  {
   "cell_type": "code",
   "execution_count": 33,
   "metadata": {},
   "outputs": [
    {
     "name": "stdout",
     "output_type": "stream",
     "text": [
      "bar [3, 1, 4, 'Hello']\n"
     ]
    }
   ],
   "source": [
    "x=xs.pop()\n",
    "print(x,xs)"
   ]
  },
  {
   "cell_type": "code",
   "execution_count": 34,
   "metadata": {},
   "outputs": [
    {
     "name": "stdout",
     "output_type": "stream",
     "text": [
      "<class 'list'>\n"
     ]
    }
   ],
   "source": [
    "print(type(xs))"
   ]
  },
  {
   "cell_type": "code",
   "execution_count": 35,
   "metadata": {},
   "outputs": [
    {
     "name": "stdout",
     "output_type": "stream",
     "text": [
      "[0, 1, 2, 3, 4]\n"
     ]
    }
   ],
   "source": [
    "nums=list(range(5))\n",
    "print(nums)"
   ]
  },
  {
   "cell_type": "code",
   "execution_count": 50,
   "metadata": {},
   "outputs": [
    {
     "name": "stdout",
     "output_type": "stream",
     "text": [
      "[0, 0]\n",
      "[]\n",
      "[0, 0]\n",
      "[0, 0]\n",
      "[0]\n"
     ]
    }
   ],
   "source": [
    "print(nums[::-1])\n",
    "print(nums[2:])\n",
    "print(nums[:2])\n",
    "print(nums[:])\n",
    "print(nums[:-1])\n",
    "nums[2:4]=[]"
   ]
  },
  {
   "cell_type": "code",
   "execution_count": 46,
   "metadata": {},
   "outputs": [
    {
     "name": "stdout",
     "output_type": "stream",
     "text": [
      "[1, 0]\n"
     ]
    }
   ],
   "source": [
    "\n",
    "print(nums[5:0:-1])"
   ]
  },
  {
   "cell_type": "code",
   "execution_count": 47,
   "metadata": {},
   "outputs": [
    {
     "name": "stdout",
     "output_type": "stream",
     "text": [
      "[1, 0, 0]\n"
     ]
    }
   ],
   "source": [
    "print(nums[::-1])"
   ]
  },
  {
   "cell_type": "code",
   "execution_count": 51,
   "metadata": {},
   "outputs": [
    {
     "name": "stdout",
     "output_type": "stream",
     "text": [
      "cat\n",
      "dog\n",
      "monkey\n"
     ]
    }
   ],
   "source": [
    "animals=['cat','dog','monkey']\n",
    "for i in animals:\n",
    "    print(i)"
   ]
  },
  {
   "cell_type": "code",
   "execution_count": 56,
   "metadata": {},
   "outputs": [
    {
     "name": "stdout",
     "output_type": "stream",
     "text": [
      "[0, 1, 4, 9, 16] [0, 1, 8, 27, 64]\n"
     ]
    }
   ],
   "source": [
    "nums=[0,1,2,3,4]\n",
    "squares=[]\n",
    "cubes=[]\n",
    "for i in nums:\n",
    "    squares.append(i**2)\n",
    "    cubes.append(i**3)\n",
    "print(squares,cubes)"
   ]
  },
  {
   "cell_type": "code",
   "execution_count": 59,
   "metadata": {},
   "outputs": [
    {
     "name": "stdout",
     "output_type": "stream",
     "text": [
      "[0, 1, 4, 9, 16]\n"
     ]
    }
   ],
   "source": [
    "nums=[0,1,2,3,4]\n",
    "squares=[x**2 for x in nums]\n",
    "print(squares)"
   ]
  },
  {
   "cell_type": "code",
   "execution_count": 63,
   "metadata": {},
   "outputs": [
    {
     "name": "stdout",
     "output_type": "stream",
     "text": [
      "[1, 9]\n"
     ]
    }
   ],
   "source": [
    "nums=[0,1,2,3,4]\n",
    "odd_squares=[x**2 for x in nums if x%2!=0]\n",
    "print(odd_squares)"
   ]
  },
  {
   "cell_type": "markdown",
   "metadata": {},
   "source": [
    "DICTIONARY COMPREHEENSIONS"
   ]
  },
  {
   "cell_type": "code",
   "execution_count": 3,
   "metadata": {},
   "outputs": [
    {
     "name": "stdout",
     "output_type": "stream",
     "text": [
      "{0: 0, 2: 4, 4: 16}\n"
     ]
    }
   ],
   "source": [
    "nums=[0,1,2,3,4]\n",
    "even_num_to_square={x:x**2 for x in nums if x%2==0}\n",
    "print(even_num_to_square)"
   ]
  },
  {
   "cell_type": "code",
   "execution_count": 4,
   "metadata": {},
   "outputs": [
    {
     "name": "stdout",
     "output_type": "stream",
     "text": [
      "[0, 1, 2, 3, 4, 5, 6, 7, 8, 9, 10, 11, 12, 13, 14, 15, 16, 17, 18, 19, 20, 21, 22, 23, 24, 25, 26, 27, 28, 29, 30, 31, 32, 33, 34, 35, 36, 37, 38, 39, 40, 41, 42, 43, 44, 45, 46, 47, 48, 49, 50, 51, 52, 53, 54, 55, 56, 57, 58, 59, 60, 61, 62, 63, 64, 65, 66, 67, 68, 69, 70, 71, 72, 73, 74, 75, 76, 77, 78, 79, 80, 81, 82, 83, 84, 85, 86, 87, 88, 89, 90, 91, 92, 93, 94, 95, 96, 97, 98, 99]\n"
     ]
    }
   ],
   "source": [
    "nums=list(range(100))\n",
    "print(nums)"
   ]
  },
  {
   "cell_type": "code",
   "execution_count": 8,
   "metadata": {},
   "outputs": [
    {
     "name": "stdout",
     "output_type": "stream",
     "text": [
      "{0: 0.0, 7: 2.6457513110645907, 14: 3.7416573867739413, 21: 4.58257569495584, 28: 5.291502622129181, 35: 5.916079783099616, 42: 6.48074069840786, 49: 7.0, 56: 7.483314773547883, 63: 7.937253933193772, 70: 8.366600265340756, 77: 8.774964387392123, 84: 9.16515138991168, 91: 9.539392014169456, 98: 9.899494936611665}\n"
     ]
    }
   ],
   "source": [
    "##Assignment  1 \n",
    "dict_num={n:n**(0.5) for n in nums if n %7 ==0}\n",
    "print(dict_num)"
   ]
  },
  {
   "cell_type": "code",
   "execution_count": 27,
   "metadata": {},
   "outputs": [
    {
     "name": "stdout",
     "output_type": "stream",
     "text": [
      "{'Even': [700, 780, 32, 560, 184, 956, 464, 660, 776, 264, 78, 128, 926, 930, 22, 494, 88, 780, 316, 496, 586, 792, 906, 850, 416, 906, 102, 902, 284, 442, 648, 462, 208, 168, 342, 366, 92, 366, 784, 900, 82, 674, 516, 320, 230, 234, 972, 888, 834, 30, 322, 448, 68, 336, 290, 186, 364, 766, 452, 302, 10, 218, 526, 752, 414, 996, 226, 888, 492, 232, 70, 860, 810, 104, 972, 126, 432, 228, 250, 160, 980, 782, 52, 286, 762, 592, 914, 762, 536, 750, 452, 780, 240, 990, 802, 302, 414, 376, 778, 316, 300, 402, 492, 862, 548, 982, 448, 230, 896, 848, 438, 510, 498, 104, 432, 336, 280, 10, 48, 382, 142, 716, 876, 470, 810, 550, 46, 820, 326, 742, 922, 74, 834, 660, 984, 184, 860, 446, 646, 504, 286, 840, 606, 454, 286, 902, 498, 626, 430, 212, 884, 868, 724, 138, 840, 796, 866, 268, 972, 938, 614, 472, 700, 870, 132, 826, 134, 284, 278, 308, 840, 508, 586, 836, 758, 412, 556, 996, 42, 500, 800, 294, 4, 82, 192, 132, 720, 184, 782, 568, 234, 994, 554, 946, 290, 210, 248, 378, 88, 164, 938, 264, 182, 536, 168, 138, 612, 766, 200, 514, 688, 646, 850, 466, 896, 124, 758, 88, 922, 216, 938, 260, 326, 974, 386, 20, 752, 170, 960, 704, 104, 106, 426, 742, 822, 498, 894, 312, 934, 878, 890, 674, 746, 744, 128, 958, 758, 626, 168, 266, 308, 572, 216, 816, 814, 718, 56, 930, 690, 96, 342, 542, 514, 522, 156, 952, 10, 146, 846, 310, 824, 98, 336, 900, 934, 464, 756, 666, 764, 182, 62, 278, 894, 428, 154, 538, 890, 72, 504, 502, 906, 2, 492, 126, 714, 544, 944, 0, 364, 416, 30, 846, 224, 114, 208, 684, 506, 320, 878, 192, 130, 260, 496, 762, 588, 478, 168, 214, 266, 380, 728, 812, 498, 530, 846, 544, 334, 708, 170, 68, 730, 574, 244, 936, 950, 652, 906, 242, 896, 438, 288, 800, 966, 904, 100, 340, 104, 66, 340, 552, 140, 204, 780, 498, 448, 128, 646, 336, 334, 826, 564, 314, 534, 866, 6, 202, 928, 364, 802, 76, 594, 64, 284, 554, 858, 872, 112, 586, 790, 848, 788, 806, 626, 416, 28, 344, 746, 544, 50, 372, 444, 120, 4, 992, 308, 362, 48, 752, 908, 54, 118, 528, 790, 700, 322, 654, 912, 882, 132, 148, 50, 160, 170, 932, 658, 906, 508, 378, 344, 924, 620, 790, 348, 54, 360, 148, 280, 594, 686, 432, 602, 634, 28, 696, 938, 66, 416, 492, 276, 698, 634, 864, 118, 426, 72, 320, 288, 598, 962, 754, 2, 736, 88, 262, 402, 178, 622, 966, 328, 346, 928, 54, 880, 412, 618, 190, 792, 442, 936, 632, 32, 944, 694, 452, 144, 444, 678, 446, 472, 370, 994, 492, 44, 56, 398, 204, 722, 982, 310, 794, 476, 12, 140, 812, 16, 50, 306, 974, 996, 4, 338, 574, 54, 848, 92, 218, 400, 752, 284, 740, 144, 746, 686], 'Odd': [3, 933, 349, 827, 73, 937, 917, 719, 509, 619, 719, 675, 525, 35, 81, 905, 197, 969, 169, 395, 207, 433, 945, 13, 293, 563, 495, 575, 985, 249, 585, 895, 541, 313, 311, 407, 929, 553, 685, 219, 999, 731, 771, 561, 353, 427, 645, 967, 227, 235, 391, 851, 283, 149, 41, 411, 241, 437, 463, 679, 811, 593, 471, 749, 299, 693, 557, 235, 551, 993, 721, 47, 79, 323, 339, 361, 185, 357, 71, 471, 523, 423, 651, 909, 417, 369, 853, 431, 989, 579, 687, 149, 899, 257, 147, 339, 877, 711, 837, 769, 261, 155, 709, 703, 595, 355, 147, 489, 7, 597, 323, 385, 323, 165, 13, 991, 943, 253, 287, 129, 881, 21, 839, 785, 93, 627, 17, 61, 741, 777, 977, 847, 591, 625, 705, 651, 833, 331, 875, 727, 573, 363, 515, 897, 293, 547, 541, 73, 525, 849, 55, 883, 285, 271, 499, 89, 869, 463, 95, 161, 407, 611, 459, 29, 501, 953, 949, 461, 109, 215, 933, 929, 281, 109, 677, 283, 577, 27, 665, 473, 763, 913, 959, 591, 353, 289, 153, 151, 691, 267, 411, 567, 879, 577, 103, 489, 443, 425, 965, 13, 319, 559, 505, 587, 61, 309, 665, 125, 513, 945, 537, 253, 257, 969, 903, 937, 53, 557, 271, 493, 355, 147, 27, 889, 499, 879, 945, 683, 97, 123, 283, 537, 933, 245, 989, 333, 783, 143, 109, 827, 849, 23, 847, 211, 935, 613, 379, 55, 889, 733, 171, 909, 771, 997, 891, 783, 117, 257, 411, 291, 167, 675, 487, 817, 851, 493, 143, 875, 89, 35, 763, 681, 829, 637, 489, 459, 593, 505, 225, 11, 173, 641, 679, 681, 223, 509, 183, 845, 253, 923, 897, 119, 243, 371, 941, 965, 911, 373, 601, 133, 661, 187, 987, 911, 733, 881, 325, 923, 95, 183, 515, 971, 965, 361, 211, 581, 13, 979, 807, 655, 513, 59, 765, 939, 907, 285, 687, 475, 527, 885, 789, 945, 195, 261, 613, 239, 635, 451, 697, 3, 327, 53, 751, 925, 423, 553, 965, 721, 571, 137, 703, 243, 489, 39, 601, 357, 821, 489, 693, 611, 703, 773, 767, 541, 909, 845, 643, 213, 219, 713, 557, 163, 351, 179, 399, 771, 77, 37, 355, 387, 749, 885, 491, 297, 997, 497, 459, 451, 499, 799, 99, 753, 219, 195, 285, 447, 377, 295, 591, 395, 227, 373, 113, 301, 649, 975, 903, 671, 887, 141, 779, 585, 703, 745, 941, 763, 867, 645, 823, 483, 737, 743, 185, 679, 641, 925, 795, 269, 675, 617, 131, 701, 291, 153, 355, 461, 41, 459, 797, 633, 65, 49, 55, 689, 979, 233, 665, 377, 301, 741, 107, 447, 183, 719, 999, 873, 737, 863, 197, 933, 597, 907, 475, 705, 891, 235, 489, 767, 429, 737, 763, 191, 637, 987, 419, 589, 625, 393, 413, 783, 489, 683, 421, 253, 481, 573, 741], 'Prime': [3, 349, 827, 73, 937, 719, 509, 619, 719, 197, 433, 13, 293, 563, 541, 313, 311, 929, 353, 967, 227, 283, 149, 41, 241, 463, 811, 593, 557, 47, 79, 71, 523, 853, 431, 149, 257, 877, 769, 709, 7, 13, 991, 881, 839, 17, 61, 977, 331, 727, 293, 547, 541, 73, 883, 271, 499, 89, 463, 29, 953, 461, 109, 929, 281, 109, 677, 283, 577, 353, 151, 691, 577, 103, 443, 13, 587, 61, 257, 937, 53, 557, 271, 499, 683, 97, 283, 109, 827, 23, 211, 613, 379, 733, 997, 257, 167, 487, 89, 829, 593, 11, 173, 641, 223, 509, 941, 911, 373, 601, 661, 2, 911, 733, 881, 971, 211, 13, 59, 907, 613, 239, 3, 53, 751, 571, 137, 601, 821, 773, 541, 643, 557, 163, 179, 37, 491, 997, 499, 227, 373, 113, 887, 941, 823, 743, 641, 269, 617, 131, 701, 461, 41, 797, 233, 2, 107, 719, 863, 197, 907, 191, 419, 683, 421]}\n"
     ]
    }
   ],
   "source": [
    "##Asssignment2\n",
    "import random\n",
    "res = [random.randrange(0,1000) for i in range(1000)]\n",
    "#print(res)\n",
    "list_even=[x for x in res if x%2==0]\n",
    "list_odd=[x for x in res if x%2!=0]\n",
    "def is_prime(n):\n",
    "    if(n<=1):\n",
    "        return False\n",
    "    else:\n",
    "        for i in range(2,n):\n",
    "            if (n % i)==0:\n",
    "               return False\n",
    "    return True\n",
    "\n",
    "list_prime=[x for x in res if is_prime(x)]\n",
    "#print(list_prime)\n",
    "dict_num={'Even':list_even,'Odd':list_odd,'Prime':list_prime}\n",
    "print(dict_num)\n",
    "\n",
    "\n"
   ]
  },
  {
   "cell_type": "code",
   "execution_count": 30,
   "metadata": {},
   "outputs": [
    {
     "name": "stdout",
     "output_type": "stream",
     "text": [
      "['0x3b2', '0x1f4', '0x3a9', '0x168', '0x3df', '0x76', '0x3bc', '0x2be', '0x36', '0x160', '0x79', '0x14b', '0x21a', '0x13d', '0x113', '0x144', '0x16', '0x2c', '0x3be', '0x289', '0x228', '0x3d6', '0x20a', '0x184', '0x1d3', '0x2ab', '0x273', '0xb4', '0x48', '0x31', '0x93', '0x3dc', '0x374', '0x15f', '0x120', '0x13f', '0x227', '0x38c', '0x1a', '0x2b4', '0xe6', '0x2a5', '0x1bc', '0x36b', '0x1f', '0x9e', '0x136', '0x10a', '0x80', '0x19e', '0x1ac', '0x93', '0x258', '0x2ee', '0x25f', '0x25c', '0x1a9', '0xdd', '0x3d5', '0x74', '0x175', '0x126', '0x3a0', '0x13f', '0x19f', '0x1a5', '0x1bc', '0x2dd', '0x220', '0x26b', '0x393', '0xbf', '0x2fd', '0x3ca', '0x36c', '0x334', '0x2a', '0x1df', '0x1ac', '0x181', '0x71', '0x28b', '0x2b2', '0x7f', '0x305', '0x112', '0x33c', '0x262', '0x288', '0x376', '0x131', '0xf5', '0x1e5', '0x33f', '0x188', '0xd8', '0x34a', '0x119', '0x29e', '0x138', '0x309', '0x329', '0x119', '0x2e3', '0x308', '0x278', '0x2a1', '0x204', '0x23a', '0x9d', '0xa3', '0x60', '0x30f', '0x349', '0x20d', '0x2c5', '0x1ed', '0x392', '0x360', '0x2b3', '0x1ab', '0x142', '0x115', '0x3d6', '0xdf', '0x324', '0x34a', '0x28e', '0x20c', '0xa1', '0x5e', '0x34c', '0x25f', '0x30b', '0x220', '0x2da', '0x30a', '0xb6', '0x103', '0x333', '0x379', '0xf6', '0x25f', '0x265', '0x11d', '0xd7', '0x3de', '0x36a', '0x1db', '0x1dd', '0x82', '0x10b', '0xf8', '0x245', '0x3b1', '0x19c', '0x2bd', '0x305', '0x163', '0x2b4', '0x1f2', '0x2ee', '0x2cc', '0x126', '0x5c', '0x143', '0x210', '0x2e3', '0x1f7', '0x130', '0x38b', '0x1c6', '0x3a4', '0x1ff', '0x2f', '0xad', '0x136', '0x92', '0x397', '0x1cb', '0x1bd', '0x23d', '0x2ac', '0x38f', '0xcf', '0x1da', '0x274', '0x96', '0x1fa', '0x3d3', '0xa0', '0xf', '0x2eb', '0x15e', '0x2be', '0x38f', '0x349', '0x158', '0x3bb', '0x34', '0x2ff', '0x223', '0xd7', '0x3a4', '0x11c', '0x287', '0x20e', '0x237', '0x1de', '0xd', '0x265', '0x36a', '0xdb', '0x11e', '0x98', '0x16a', '0x342', '0x69', '0x123', '0x1d2', '0x2e7', '0x37', '0x3c0', '0x22b', '0x86', '0x200', '0x128', '0x31e', '0x231', '0x1ab', '0x33d', '0xa9', '0x350', '0x169', '0x3c6', '0x2dc', '0x3d9', '0x251', '0x2ad', '0x63', '0x3be', '0x319', '0x2ce', '0x53', '0x25e', '0x2a6', '0x2e6', '0x7c', '0x115', '0x1b6', '0x108', '0x2d8', '0x3c9', '0x1cc', '0x21c', '0x1a', '0x1ea', '0x3bc', '0x1c6', '0x21e', '0x247', '0x372', '0x261', '0x21', '0x276', '0xc0', '0xd3', '0xce', '0x7', '0x201', '0x32b', '0x2b0', '0x2e9', '0x3a1', '0x2a', '0x207', '0xe', '0x209', '0x392', '0x2e9', '0x2ec', '0x43', '0x2b7', '0x3c0', '0x1f', '0x2b2', '0x359', '0x30c', '0x3e', '0x3c9', '0x183', '0x17', '0x17f', '0x3de', '0x29f', '0x1ff', '0x130', '0x54', '0x151', '0x1fa', '0x213', '0x1a6', '0x3b9', '0x15c', '0x22d', '0x140', '0x1f9', '0x37d', '0x17b', '0x193', '0x355', '0x16', '0x1dd', '0x2a5', '0x3a7', '0xfb', '0x11d', '0x302', '0x316', '0x3c3', '0x2dd', '0x310', '0x26e', '0x33d', '0xca', '0x21f', '0x307', '0xdc', '0x17c', '0x39e', '0x2b6', '0x105', '0x266', '0x22b', '0x24d', '0x8d', '0xea', '0x345', '0x182', '0x100', '0xfa', '0x24f', '0xbf', '0x358', '0x296', '0x7', '0x2be', '0x2d5', '0x2a9', '0x1f0', '0x3d8', '0x1a8', '0x17e', '0x14f', '0x2c7', '0x262', '0x28e', '0xc2', '0x182', '0x2c1', '0x194', '0x140', '0x235', '0x106', '0xde', '0x270', '0x129', '0x178', '0x1aa', '0x1e9', '0x14f', '0x30a', '0x1db', '0xbc', '0x3bf', '0x16a', '0x3ca', '0x1a2', '0x5d', '0x183', '0x9f', '0x323', '0x121', '0x23c', '0x2a5', '0x17f', '0x1e3', '0x32d', '0x3ae', '0x19f', '0x73', '0x129', '0x9b', '0x2c0', '0x2ac', '0x35a', '0x1e1', '0x3a', '0x2f1', '0x3', '0x129', '0x379', '0x63', '0x346', '0xcd', '0x1c0', '0x2e0', '0x22d', '0x112', '0x2d2', '0x287', '0x4a', '0x3c8', '0x362', '0x2b9', '0xf5', '0x203', '0x67', '0x1c6', '0x90', '0x271', '0x3e0', '0x1e5', '0x317', '0x230', '0xb0', '0x34e', '0x36d', '0x2dc', '0x342', '0x24', '0x151', '0xa8', '0x188', '0x33b', '0x69', '0x2b1', '0x104', '0xd3', '0x65', '0x22a', '0x80', '0x390', '0x58', '0x231', '0x348', '0x125', '0x349', '0x18d', '0x205', '0x1ec', '0x1e1', '0x2ec', '0x26f', '0x51', '0x11d', '0x2a7', '0x35a', '0x5b', '0x19a', '0x39c', '0x260', '0x10e', '0xa0', '0x30d', '0x6e', '0x354', '0xe6', '0x3e2', '0x286', '0x1e', '0x14d', '0x25b', '0x360', '0x1bd', '0x108', '0x4b', '0x30a', '0x15a', '0x2ad', '0x3d7', '0x2c8', '0x152', '0x20c', '0x19b', '0x33f', '0xf5', '0x12f', '0x27f', '0x1a6', '0x133', '0x362', '0x1af', '0x1fe', '0x2ce', '0x19c', '0x15c', '0x233', '0x1b8', '0x3b', '0x335', '0x24d', '0xcd', '0x0', '0x51', '0x179', '0x1a7', '0x3d0', '0x1a6', '0x285', '0x26e', '0x235', '0x153', '0x106', '0x92', '0x3e4', '0xa3', '0x3b0', '0x349', '0x150', '0x89', '0x19e', '0x1a9', '0x1c1', '0x3da', '0x1a8', '0xe1', '0x384', '0x230', '0x15f', '0x64', '0x364', '0x29c', '0x3a0', '0x2c4', '0x75', '0x1b7', '0x19e', '0x15f', '0x378', '0x66', '0x1dd', '0x2d6', '0x376', '0x289', '0x30f', '0x70', '0x371', '0x27e', '0x5', '0x21d', '0x142', '0x55', '0x3c6', '0x1c4', '0x47', '0x3d', '0x48', '0x1ea', '0xfa', '0x1be', '0x3e', '0xc', '0x173', '0x1f0', '0x39d', '0x357', '0x266', '0x2e3', '0x6a', '0x2e', '0x333', '0xa3', '0x12f', '0x19c', '0x2ce', '0x162', '0x230', '0x8b', '0x1c0', '0x371', '0x1a7', '0x373', '0x1e2', '0x1ce', '0x85', '0x20e', '0x3cb', '0x34e', '0x2d3', '0x2f0', '0x2f6', '0x20e', '0x3c', '0x57', '0x61', '0x1d', '0x35c', '0x10d', '0x262', '0x1b9', '0x140', '0xc5', '0x2ee', '0x1ec', '0x3e4', '0x1d7', '0x3b3', '0x3d', '0x51', '0x223', '0x82', '0xb5', '0x1b5', '0x175', '0x3d2', '0x3c8', '0x120', '0x60', '0x233', '0x2c3', '0x202', '0xcd', '0x38', '0x1a3', '0x334', '0x1b8', '0xb1', '0x16', '0x247', '0x2fc', '0x27b', '0x38c', '0x2c', '0x105', '0x156', '0x108', '0xc', '0x136', '0x148', '0x283', '0x2cc', '0x37d', '0x351', '0xbd', '0x34f', '0x28d', '0x270', '0x1ef', '0x360', '0xc1', '0xf9', '0x3f', '0x18c', '0x3ab', '0x1e4', '0x5e', '0x266', '0x28', '0x6c', '0x117', '0x1ec', '0x28d', '0x187', '0x272', '0xdd', '0x83', '0x215', '0x1ef', '0x44', '0x7a', '0xd6', '0x204', '0x3c2', '0x3d7', '0x8a', '0x35b', '0x7d', '0x1f6', '0x38', '0x3b5', '0x20', '0x78', '0x2bb', '0x272', '0x248', '0xe3', '0x169', '0x2bb', '0x3c6', '0x354', '0x39e', '0x1a5', '0x17f', '0x98', '0x7c', '0x17e', '0x2a9', '0x363', '0xe5', '0x34c', '0x2c1', '0xa2', '0x347', '0x355', '0x24e', '0x3ac', '0x1ce', '0xc0', '0x3aa', '0x296', '0x55', '0x263', '0x24d', '0x288', '0x281', '0x3c7', '0x1ec', '0x3c1', '0x21f', '0x2b4', '0x237', '0x22a', '0x3b1', '0x17a', '0xa0', '0x253', '0x2ac', '0x2c5', '0x1d2', '0x84', '0x33d', '0x5c', '0x1ca', '0x307', '0x28f', '0x14e', '0x50', '0x2d', '0x3f', '0x1a4', '0xd0', '0xb6', '0x3c8', '0x299', '0xfa', '0x1c7', '0x27c', '0x6f', '0x33a', '0x81', '0x6e', '0x49', '0x10f', '0x1a0', '0x326', '0x319', '0x3cd', '0x32a', '0x6f', '0x268', '0x16d', '0x6d', '0x2f5', '0x220', '0x33e', '0x14d', '0x22b', '0x2db', '0x173', '0x3d7', '0x3da', '0x52', '0x307', '0xfe', '0x346', '0x11a', '0x261', '0x2a1', '0x138', '0x21c', '0x170', '0x1e0', '0x261', '0x172', '0x356', '0x304', '0x171', '0x2b4', '0x388', '0x2eb', '0x175', '0x238', '0x225', '0x150', '0x31b', '0x29f', '0x3de', '0x1d2', '0x298', '0x192', '0x254', '0x64', '0x14b', '0x66', '0x2ea', '0x192', '0x3ad', '0x1db', '0x181', '0x14a', '0x27a', '0x26b', '0x1e1', '0x14d', '0x218', '0x1bf', '0x377', '0x349', '0x83', '0x2ad', '0x11a', '0x3a3', '0x1ba', '0x12', '0x15', '0x1c5', '0x1e7', '0xd6', '0x1ba', '0x256', '0xf9', '0xb4', '0x240', '0x1c6', '0x1d9', '0x1c9', '0x1cc', '0x2b3', '0x363', '0x233', '0x3b', '0x336', '0x20d', '0x1ee', '0x112', '0xe7', '0x216', '0x188', '0x21e', '0x2eb', '0x316', '0x207', '0x8d', '0x2f3', '0x171', '0x352', '0x244', '0x28f', '0x1d2', '0x38f', '0x1ce', '0x38f', '0x2c', '0x350', '0x176', '0x2ef', '0x295', '0x92', '0x28', '0x25', '0x26f', '0xd5', '0x70', '0x31e', '0x36f', '0x1e5', '0xc', '0x375', '0x300', '0x26c', '0x2e1', '0x349', '0x38c', '0xfa', '0x2b0', '0x130', '0x2ff', '0x2a2', '0x39b', '0x18e', '0x1f9', '0x25a', '0x296', '0x148', '0xa7', '0x270', '0x355', '0x239', '0x49', '0x51', '0x391', '0x1ae', '0x1af', '0x17b', '0x164', '0xf5', '0x1bb', '0xbe', '0xf9', '0x379', '0x134', '0x21b', '0x30a', '0x385', '0x223', '0x336', '0x34a', '0x14e', '0x3a2', '0x388', '0x8e', '0x31b', '0x106', '0x33', '0x2b3', '0xcc', '0x62', '0x4f', '0x3e2', '0x82', '0x298', '0x157', '0x369', '0x2a5', '0x7', '0x1b0', '0xdc', '0x1a7', '0x341', '0x169', '0x3a6', '0x78', '0x10', '0x192', '0x365', '0x125', '0x2d', '0x299', '0x27e', '0x34c', '0x65', '0x1c3', '0x141', '0x3cb', '0x17a', '0x1b7', '0x135', '0xf4', '0x23e', '0x376', '0x80', '0x15c', '0x3a1', '0x149', '0x54', '0x321', '0x30e', '0x2c4', '0x27', '0x382', '0x235', '0x75', '0x3ce', '0x28e', '0x36c', '0x362', '0x16b', '0x395', '0xef', '0x25a', '0x273', '0x12b', '0x121', '0x2a6', '0x121', '0x156', '0x168', '0x308', '0x31d', '0x1d8', '0x2ca', '0xfa', '0x346', '0x55', '0x107', '0x193', '0x12d', '0x26b', '0x249']\n"
     ]
    }
   ],
   "source": [
    "##Assignment 3\n",
    "import random\n",
    "res = [random.randrange(0,1000) for i in range(1000)]\n",
    "list_hex=[hex(x) for x in res]\n",
    "print(list_hex)\n",
    "\n"
   ]
  },
  {
   "cell_type": "code",
   "execution_count": 8,
   "metadata": {},
   "outputs": [
    {
     "name": "stdout",
     "output_type": "stream",
     "text": [
      "<class 'tuple'>\n"
     ]
    }
   ],
   "source": [
    "t=(12,34.12,\"hello\")\n",
    "print(type(t))"
   ]
  },
  {
   "cell_type": "code",
   "execution_count": 2,
   "metadata": {},
   "outputs": [
    {
     "ename": "AttributeError",
     "evalue": "'tuple' object has no attribute 'append'",
     "output_type": "error",
     "traceback": [
      "\u001b[1;31m---------------------------------------------------------------------------\u001b[0m",
      "\u001b[1;31mAttributeError\u001b[0m                            Traceback (most recent call last)",
      "\u001b[1;32m<ipython-input-2-a645ca36d01d>\u001b[0m in \u001b[0;36m<module>\u001b[1;34m\u001b[0m\n\u001b[1;32m----> 1\u001b[1;33m \u001b[0mt\u001b[0m\u001b[1;33m.\u001b[0m\u001b[0mappend\u001b[0m\u001b[1;33m(\u001b[0m\u001b[1;36m3\u001b[0m\u001b[1;33m)\u001b[0m\u001b[1;33m\u001b[0m\u001b[1;33m\u001b[0m\u001b[0m\n\u001b[0m",
      "\u001b[1;31mAttributeError\u001b[0m: 'tuple' object has no attribute 'append'"
     ]
    }
   ],
   "source": [
    "t.append(3)"
   ]
  },
  {
   "cell_type": "code",
   "execution_count": 7,
   "metadata": {},
   "outputs": [
    {
     "name": "stdout",
     "output_type": "stream",
     "text": [
      "{1, 2, 3, 4}\n",
      "<class 'list'>\n",
      "<class 'set'>\n",
      "True\n"
     ]
    }
   ],
   "source": [
    "x=[1,2,3]\n",
    "y={1,2,3,4,2}\n",
    "print(y)\n",
    "y.add(4)\n",
    "print(type(x))\n",
    "print(type(y))\n",
    "print(2 in x)"
   ]
  },
  {
   "cell_type": "code",
   "execution_count": 11,
   "metadata": {},
   "outputs": [
    {
     "name": "stdout",
     "output_type": "stream",
     "text": [
      "<class 'tuple'>\n"
     ]
    }
   ],
   "source": [
    "t=(3,)\n",
    "print(type(t))\n",
    "    "
   ]
  },
  {
   "cell_type": "code",
   "execution_count": 20,
   "metadata": {},
   "outputs": [
    {
     "name": "stdout",
     "output_type": "stream",
     "text": [
      "[73, 67, 8, 97, 62, 32, 44, 80, 26, 5]\n",
      "True\n",
      "0x49\n",
      "True\n",
      "0x43\n",
      "False\n",
      "0x8\n",
      "True\n",
      "0x61\n",
      "False\n",
      "0x3e\n",
      "False\n",
      "0x20\n",
      "False\n",
      "0x2c\n",
      "False\n",
      "0x50\n",
      "False\n",
      "0x1a\n",
      "True\n",
      "0x5\n"
     ]
    }
   ],
   "source": [
    "#ASSIGNMENT ON 28-01-2020\n",
    "import random\n",
    "def  is_prime(x):\n",
    "        if(x<=1):\n",
    "          return False\n",
    "        else:\n",
    "          for i in range(2,x):\n",
    "            if (x % i)==0:\n",
    "                return False\n",
    "        return True\n",
    "def convert_hex(x):\n",
    "    return hex(x)\n",
    "res = [random.randrange(0,100) for i in range(10)]\n",
    "print(res)\n",
    "for n in res:\n",
    "    print(is_prime(n))\n",
    "    print(hex(n))\n",
    "    \n",
    "\n",
    "\n",
    "    "
   ]
  },
  {
   "cell_type": "code",
   "execution_count": 23,
   "metadata": {},
   "outputs": [
    {
     "name": "stdout",
     "output_type": "stream",
     "text": [
      "[[0. 0.]\n",
      " [0. 0.]]\n"
     ]
    }
   ],
   "source": [
    "import numpy as np\n",
    "a=np.zeros((2,2))\n",
    "print(a)"
   ]
  },
  {
   "cell_type": "code",
   "execution_count": 24,
   "metadata": {},
   "outputs": [
    {
     "name": "stdout",
     "output_type": "stream",
     "text": [
      "10\n",
      "[4 6]\n",
      "[3 7]\n"
     ]
    }
   ],
   "source": [
    "x=np.array([[1,2],[3,4]])\n",
    "print(np.sum(x))\n",
    "print(np.sum(x,axis=0))\n",
    "print(np.sum(x,axis=1))"
   ]
  },
  {
   "cell_type": "code",
   "execution_count": 13,
   "metadata": {},
   "outputs": [
    {
     "name": "stdout",
     "output_type": "stream",
     "text": [
      "2\n",
      "6\n",
      "3\n",
      "1\n",
      "0.5499999999999999\n",
      "0.45000000000000007\n",
      "0.33333333333333326\n"
     ]
    }
   ],
   "source": [
    "#assignment\n",
    "red_box=['a','o','a','o','o','o','o','o']\n",
    "blue_box=['a','o','a','a']\n",
    "len_red=len(red_box)\n",
    "len_blue=len(blue_box)\n",
    "count_app_red=red_box.count('a')\n",
    "print(count_app_red)\n",
    "count_orr_red=red_box.count('o')\n",
    "print(count_orr_red)\n",
    "count_app_blue=blue_box.count('a')\n",
    "print(count_app_blue)\n",
    "count_orr_blue=blue_box.count('o')\n",
    "print(count_orr_blue)\n",
    "\n",
    "PRed,Pblue=0.4,0.6\n",
    "Papple=(PRed*(count_app_red/len_red))+(Pblue*(count_app_blue/len_blue))\n",
    "print(Papple)\n",
    "Porr=1-Papple\n",
    "print(Porr)\n",
    "Pblue_by_orr=((count_orr_blue/len_blue)*Pblue)/Porr\n",
    "print(Pblue_by_orr)"
   ]
  },
  {
   "cell_type": "code",
   "execution_count": null,
   "metadata": {},
   "outputs": [],
   "source": []
  }
 ],
 "metadata": {
  "kernelspec": {
   "display_name": "Python 3",
   "language": "python",
   "name": "python3"
  },
  "language_info": {
   "codemirror_mode": {
    "name": "ipython",
    "version": 3
   },
   "file_extension": ".py",
   "mimetype": "text/x-python",
   "name": "python",
   "nbconvert_exporter": "python",
   "pygments_lexer": "ipython3",
   "version": "3.7.4"
  }
 },
 "nbformat": 4,
 "nbformat_minor": 2
}
